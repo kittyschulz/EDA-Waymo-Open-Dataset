{
 "cells": [
  {
   "cell_type": "markdown",
   "metadata": {},
   "source": [
    "# Exploratory Data Analysis of the Waymo Open Dataset\n",
    "\n",
    "## Scene Attributes\n",
    "\n",
    "This Jupyter Notebook explores Scene Data extracted from the labels of approximately 8,000 frames of the Waymo Open Dataset. \n"
   ]
  },
  {
   "cell_type": "code",
   "execution_count": 111,
   "metadata": {},
   "outputs": [],
   "source": [
    "import os\n",
    "import tensorflow as tf\n",
    "import math\n",
    "import numpy as np\n",
    "import pandas as pd\n",
    "import itertools\n",
    "import collections\n",
    "from scipy import stats\n",
    "import eda_stats as es"
   ]
  },
  {
   "cell_type": "code",
   "execution_count": 4,
   "metadata": {},
   "outputs": [],
   "source": [
    "%matplotlib inline\n",
    "from mpl_toolkits import mplot3d\n",
    "import matplotlib.pyplot as plt"
   ]
  },
  {
   "cell_type": "code",
   "execution_count": 5,
   "metadata": {},
   "outputs": [],
   "source": [
    "frames_df = pd.read_csv('frames8k.csv')"
   ]
  },
  {
   "cell_type": "code",
   "execution_count": 6,
   "metadata": {},
   "outputs": [],
   "source": [
    "frames_df = frames_df.drop(['unknown_count'],axis=1)"
   ]
  },
  {
   "cell_type": "code",
   "execution_count": 67,
   "metadata": {},
   "outputs": [],
   "source": [
    "frames_df['all_object_count'] = frames_df['pedestrian_count'] + frames_df['cyclist_count'] + frames_df['vehicle_count']\n",
    "count_columns = ['cyclist_count', 'pedestrian_count', 'sign_count', 'vehicle_count']"
   ]
  },
  {
   "cell_type": "code",
   "execution_count": 68,
   "metadata": {},
   "outputs": [
    {
     "data": {
      "text/html": [
       "<div>\n",
       "<style scoped>\n",
       "    .dataframe tbody tr th:only-of-type {\n",
       "        vertical-align: middle;\n",
       "    }\n",
       "\n",
       "    .dataframe tbody tr th {\n",
       "        vertical-align: top;\n",
       "    }\n",
       "\n",
       "    .dataframe thead th {\n",
       "        text-align: right;\n",
       "    }\n",
       "</style>\n",
       "<table border=\"1\" class=\"dataframe\">\n",
       "  <thead>\n",
       "    <tr style=\"text-align: right;\">\n",
       "      <th></th>\n",
       "      <th>Unnamed: 0</th>\n",
       "      <th>cyclist_count</th>\n",
       "      <th>location</th>\n",
       "      <th>pedestrian_count</th>\n",
       "      <th>sign_count</th>\n",
       "      <th>time_of_day</th>\n",
       "      <th>vehicle_count</th>\n",
       "      <th>weather</th>\n",
       "      <th>all_object_count</th>\n",
       "    </tr>\n",
       "  </thead>\n",
       "  <tbody>\n",
       "    <tr>\n",
       "      <th>0</th>\n",
       "      <td>0</td>\n",
       "      <td>0.0</td>\n",
       "      <td>location_sf</td>\n",
       "      <td>44.0</td>\n",
       "      <td>39.0</td>\n",
       "      <td>Day</td>\n",
       "      <td>60.0</td>\n",
       "      <td>sunny</td>\n",
       "      <td>104.0</td>\n",
       "    </tr>\n",
       "    <tr>\n",
       "      <th>1</th>\n",
       "      <td>1</td>\n",
       "      <td>1.0</td>\n",
       "      <td>location_sf</td>\n",
       "      <td>40.0</td>\n",
       "      <td>33.0</td>\n",
       "      <td>Day</td>\n",
       "      <td>23.0</td>\n",
       "      <td>sunny</td>\n",
       "      <td>64.0</td>\n",
       "    </tr>\n",
       "    <tr>\n",
       "      <th>2</th>\n",
       "      <td>2</td>\n",
       "      <td>8.0</td>\n",
       "      <td>location_sf</td>\n",
       "      <td>27.0</td>\n",
       "      <td>21.0</td>\n",
       "      <td>Day</td>\n",
       "      <td>50.0</td>\n",
       "      <td>sunny</td>\n",
       "      <td>85.0</td>\n",
       "    </tr>\n",
       "    <tr>\n",
       "      <th>3</th>\n",
       "      <td>3</td>\n",
       "      <td>0.0</td>\n",
       "      <td>location_sf</td>\n",
       "      <td>4.0</td>\n",
       "      <td>14.0</td>\n",
       "      <td>Day</td>\n",
       "      <td>11.0</td>\n",
       "      <td>sunny</td>\n",
       "      <td>15.0</td>\n",
       "    </tr>\n",
       "    <tr>\n",
       "      <th>4</th>\n",
       "      <td>4</td>\n",
       "      <td>0.0</td>\n",
       "      <td>location_sf</td>\n",
       "      <td>0.0</td>\n",
       "      <td>2.0</td>\n",
       "      <td>Day</td>\n",
       "      <td>17.0</td>\n",
       "      <td>sunny</td>\n",
       "      <td>17.0</td>\n",
       "    </tr>\n",
       "  </tbody>\n",
       "</table>\n",
       "</div>"
      ],
      "text/plain": [
       "   Unnamed: 0  cyclist_count     location  pedestrian_count  sign_count  \\\n",
       "0           0            0.0  location_sf              44.0        39.0   \n",
       "1           1            1.0  location_sf              40.0        33.0   \n",
       "2           2            8.0  location_sf              27.0        21.0   \n",
       "3           3            0.0  location_sf               4.0        14.0   \n",
       "4           4            0.0  location_sf               0.0         2.0   \n",
       "\n",
       "  time_of_day  vehicle_count weather  all_object_count  \n",
       "0         Day           60.0   sunny             104.0  \n",
       "1         Day           23.0   sunny              64.0  \n",
       "2         Day           50.0   sunny              85.0  \n",
       "3         Day           11.0   sunny              15.0  \n",
       "4         Day           17.0   sunny              17.0  "
      ]
     },
     "execution_count": 68,
     "metadata": {},
     "output_type": "execute_result"
    }
   ],
   "source": [
    "frames_df.head()"
   ]
  },
  {
   "cell_type": "code",
   "execution_count": 74,
   "metadata": {},
   "outputs": [
    {
     "name": "stdout",
     "output_type": "stream",
     "text": [
      "33.0 234.0\n",
      "27.0 163.0\n",
      "0.32597644141351517 0.0 11.0\n"
     ]
    },
    {
     "data": {
      "image/png": "[encoded data removed]",
      "text/plain": [
       "<Figure size 720x360 with 1 Axes>"
      ]
     },
     "metadata": {
      "needs_background": "light"
     },
     "output_type": "display_data"
    }
   ],
   "source": [
    "frames_df['all_object_count'].hist(bins=25, grid=False, figsize=(10,5), color='grey')\n",
    "frames_df['vehicle_count'].hist(bins=25, grid=False, figsize=(10,5), alpha=0.75, color='black')\n",
    "plt.xlabel('Object Count')\n",
    "plt.ylabel('Frames')\n",
    "plt.tight_layout()\n",
    "\n",
    "print(frames_df['all_object_count'].median(), frames_df['all_object_count'].max())\n",
    "print(frames_df['vehicle_count'].median(), frames_df['vehicle_count'].max())\n",
    "print(frames_df['cyclist_count'].mean(), frames_df['cyclist_count'].median(), frames_df['cyclist_count'].max())"
   ]
  },
  {
   "cell_type": "code",
   "execution_count": null,
   "metadata": {},
   "outputs": [],
   "source": [
    "def plot_subgroup_hist(df, columns, labels=(\"Pedestrian\", \"Vehicle\")):\n",
    "    \n",
    "    fig, axs = plt.subplots(2,2, figsize=(10, 5))\n",
    "    for col_name, ax in zip(df.columns, axs.flatten()):\n",
    "        bins = np.linspace(df[col_name].min(), df[col_name].max(), 30)\n",
    "        height, binz = np.histogram(sub_a[col_name], bins=bins, density=True)\n",
    "        bp1 = ax.bar(bins[:-1], height, .5*(bins[1]-bins[0]),\n",
    "                     alpha=0.5, label=sub_a, color='g')\n",
    "        height, binz = np.histogram(sub_b[col_name], bins=bins, density=True)\n",
    "        bp2 = ax.bar(bins[:-1]+.5*(bins[1]-bins[0]), height,\n",
    "                     .5*(bins[1]-bins[0]), color='b', alpha=.5)\n",
    "        ax.set_title(str(col_name).split('_', 1)[-1].title())\n",
    "        ax.legend((bp1[0], bp2[0]), labels, loc='best')\n",
    "\n",
    "    plt.tight_layout()\n",
    "\n",
    "    return fig, ax"
   ]
  },
  {
   "cell_type": "code",
   "execution_count": 47,
   "metadata": {},
   "outputs": [
    {
     "data": {
      "image/png": "[encoded data removed]",
      "text/plain": [
       "<Figure size 720x360 with 4 Axes>"
      ]
     },
     "metadata": {
      "needs_background": "light"
     },
     "output_type": "display_data"
    }
   ],
   "source": [
    "frames_df[count_columns].hist(bins=25, grid=False, figsize=(10,5))\n",
    "plt.tight_layout()"
   ]
  },
  {
   "cell_type": "code",
   "execution_count": 136,
   "metadata": {},
   "outputs": [
    {
     "data": {
      "image/png": "[encoded data removed]",
      "text/plain": [
       "<Figure size 432x288 with 1 Axes>"
      ]
     },
     "metadata": {
      "needs_background": "light"
     },
     "output_type": "display_data"
    },
    {
     "data": {
      "image/png": "[encoded data removed]",
      "text/plain": [
       "<Figure size 432x288 with 1 Axes>"
      ]
     },
     "metadata": {
      "needs_background": "light"
     },
     "output_type": "display_data"
    },
    {
     "data": {
      "image/png": "[encoded data removed]",
      "text/plain": [
       "<Figure size 432x288 with 1 Axes>"
      ]
     },
     "metadata": {
      "needs_background": "light"
     },
     "output_type": "display_data"
    }
   ],
   "source": [
    "def plot_bar_counts(df, group_column, count_column, labels):\n",
    "    counts = df.groupby(group_column).count()\n",
    "\n",
    "    count_column_title = count_column.replace('_', ' ').title()\n",
    "    group_column_title = group_column.replace('_', ' ').title()\n",
    "\n",
    "    fig, ax = plt.subplots()\n",
    "    counts[count_column].plot(kind='bar')\n",
    "    plt.title(group_column_title)\n",
    "    plt.xlabel('')\n",
    "    plt.ylabel('Frames')\n",
    "    ax.set_xticklabels(labels, rotation=45)\n",
    "    plt.show;\n",
    "\n",
    "plot_bar_counts(frames_df, 'weather', 'Unnamed: 0', ['Rain', 'Sun'])\n",
    "#plt.savefig('weather.png',bbox_inches='tight')\n",
    "plot_bar_counts(frames_df, 'location', 'Unnamed: 0',['Misc.', 'PHX', 'SF'])\n",
    "#plt.savefig('location',bbox_inches='tight');\n",
    "plot_bar_counts(frames_df, 'time_of_day', 'Unnamed: 0', ['Dawn/Dusk', 'Day', 'Night'])\n",
    "#plt.savefig('time.png',bbox_inches='tight');"
   ]
  },
  {
   "cell_type": "code",
   "execution_count": 14,
   "metadata": {},
   "outputs": [
    {
     "name": "stdout",
     "output_type": "stream",
     "text": [
      "Total number of rainy days: 67\n"
     ]
    }
   ],
   "source": [
    "print('Total number of rainy days: {}'.format(frames_df[frames_df['weather'] == 'rain'].shape[0]))"
   ]
  },
  {
   "cell_type": "code",
   "execution_count": 15,
   "metadata": {},
   "outputs": [
    {
     "data": {
      "text/html": [
       "<div>\n",
       "<style scoped>\n",
       "    .dataframe tbody tr th:only-of-type {\n",
       "        vertical-align: middle;\n",
       "    }\n",
       "\n",
       "    .dataframe tbody tr th {\n",
       "        vertical-align: top;\n",
       "    }\n",
       "\n",
       "    .dataframe thead th {\n",
       "        text-align: right;\n",
       "    }\n",
       "</style>\n",
       "<table border=\"1\" class=\"dataframe\">\n",
       "  <thead>\n",
       "    <tr style=\"text-align: right;\">\n",
       "      <th></th>\n",
       "      <th>cyclist_count</th>\n",
       "      <th>pedestrian_count</th>\n",
       "      <th>sign_count</th>\n",
       "      <th>vehicle_count</th>\n",
       "    </tr>\n",
       "    <tr>\n",
       "      <th>location</th>\n",
       "      <th></th>\n",
       "      <th></th>\n",
       "      <th></th>\n",
       "      <th></th>\n",
       "    </tr>\n",
       "  </thead>\n",
       "  <tbody>\n",
       "    <tr>\n",
       "      <th>location_other</th>\n",
       "      <td>0.0</td>\n",
       "      <td>3.0</td>\n",
       "      <td>18.0</td>\n",
       "      <td>30.0</td>\n",
       "    </tr>\n",
       "    <tr>\n",
       "      <th>location_phx</th>\n",
       "      <td>0.0</td>\n",
       "      <td>2.0</td>\n",
       "      <td>12.0</td>\n",
       "      <td>23.0</td>\n",
       "    </tr>\n",
       "    <tr>\n",
       "      <th>location_sf</th>\n",
       "      <td>0.0</td>\n",
       "      <td>25.0</td>\n",
       "      <td>19.0</td>\n",
       "      <td>36.0</td>\n",
       "    </tr>\n",
       "  </tbody>\n",
       "</table>\n",
       "</div>"
      ],
      "text/plain": [
       "                cyclist_count  pedestrian_count  sign_count  vehicle_count\n",
       "location                                                                  \n",
       "location_other            0.0               3.0        18.0           30.0\n",
       "location_phx              0.0               2.0        12.0           23.0\n",
       "location_sf               0.0              25.0        19.0           36.0"
      ]
     },
     "execution_count": 15,
     "metadata": {},
     "output_type": "execute_result"
    }
   ],
   "source": [
    "frames_df.groupby('location').mean().round()[count_columns]"
   ]
  },
  {
   "cell_type": "code",
   "execution_count": 16,
   "metadata": {},
   "outputs": [
    {
     "data": {
      "text/html": [
       "<div>\n",
       "<style scoped>\n",
       "    .dataframe tbody tr th:only-of-type {\n",
       "        vertical-align: middle;\n",
       "    }\n",
       "\n",
       "    .dataframe tbody tr th {\n",
       "        vertical-align: top;\n",
       "    }\n",
       "\n",
       "    .dataframe thead th {\n",
       "        text-align: right;\n",
       "    }\n",
       "</style>\n",
       "<table border=\"1\" class=\"dataframe\">\n",
       "  <thead>\n",
       "    <tr style=\"text-align: right;\">\n",
       "      <th></th>\n",
       "      <th>cyclist_count</th>\n",
       "      <th>pedestrian_count</th>\n",
       "      <th>sign_count</th>\n",
       "      <th>vehicle_count</th>\n",
       "    </tr>\n",
       "    <tr>\n",
       "      <th>time_of_day</th>\n",
       "      <th></th>\n",
       "      <th></th>\n",
       "      <th></th>\n",
       "      <th></th>\n",
       "    </tr>\n",
       "  </thead>\n",
       "  <tbody>\n",
       "    <tr>\n",
       "      <th>Dawn/Dusk</th>\n",
       "      <td>0.0</td>\n",
       "      <td>5.0</td>\n",
       "      <td>13.0</td>\n",
       "      <td>27.0</td>\n",
       "    </tr>\n",
       "    <tr>\n",
       "      <th>Day</th>\n",
       "      <td>0.0</td>\n",
       "      <td>16.0</td>\n",
       "      <td>17.0</td>\n",
       "      <td>31.0</td>\n",
       "    </tr>\n",
       "    <tr>\n",
       "      <th>Night</th>\n",
       "      <td>0.0</td>\n",
       "      <td>8.0</td>\n",
       "      <td>16.0</td>\n",
       "      <td>27.0</td>\n",
       "    </tr>\n",
       "  </tbody>\n",
       "</table>\n",
       "</div>"
      ],
      "text/plain": [
       "             cyclist_count  pedestrian_count  sign_count  vehicle_count\n",
       "time_of_day                                                            \n",
       "Dawn/Dusk              0.0               5.0        13.0           27.0\n",
       "Day                    0.0              16.0        17.0           31.0\n",
       "Night                  0.0               8.0        16.0           27.0"
      ]
     },
     "execution_count": 16,
     "metadata": {},
     "output_type": "execute_result"
    }
   ],
   "source": [
    "frames_df.groupby('time_of_day').mean().round()[count_columns]"
   ]
  },
  {
   "cell_type": "code",
   "execution_count": 17,
   "metadata": {},
   "outputs": [
    {
     "data": {
      "text/html": [
       "<div>\n",
       "<style scoped>\n",
       "    .dataframe tbody tr th:only-of-type {\n",
       "        vertical-align: middle;\n",
       "    }\n",
       "\n",
       "    .dataframe tbody tr th {\n",
       "        vertical-align: top;\n",
       "    }\n",
       "\n",
       "    .dataframe thead th {\n",
       "        text-align: right;\n",
       "    }\n",
       "</style>\n",
       "<table border=\"1\" class=\"dataframe\">\n",
       "  <thead>\n",
       "    <tr style=\"text-align: right;\">\n",
       "      <th></th>\n",
       "      <th>cyclist_count</th>\n",
       "      <th>pedestrian_count</th>\n",
       "      <th>sign_count</th>\n",
       "      <th>vehicle_count</th>\n",
       "    </tr>\n",
       "    <tr>\n",
       "      <th>weather</th>\n",
       "      <th></th>\n",
       "      <th></th>\n",
       "      <th></th>\n",
       "      <th></th>\n",
       "    </tr>\n",
       "  </thead>\n",
       "  <tbody>\n",
       "    <tr>\n",
       "      <th>rain</th>\n",
       "      <td>0.0</td>\n",
       "      <td>0.0</td>\n",
       "      <td>5.0</td>\n",
       "      <td>19.0</td>\n",
       "    </tr>\n",
       "    <tr>\n",
       "      <th>sunny</th>\n",
       "      <td>0.0</td>\n",
       "      <td>14.0</td>\n",
       "      <td>17.0</td>\n",
       "      <td>31.0</td>\n",
       "    </tr>\n",
       "  </tbody>\n",
       "</table>\n",
       "</div>"
      ],
      "text/plain": [
       "         cyclist_count  pedestrian_count  sign_count  vehicle_count\n",
       "weather                                                            \n",
       "rain               0.0               0.0         5.0           19.0\n",
       "sunny              0.0              14.0        17.0           31.0"
      ]
     },
     "execution_count": 17,
     "metadata": {},
     "output_type": "execute_result"
    }
   ],
   "source": [
    "frames_df.groupby('weather').mean().round()[count_columns]"
   ]
  },
  {
   "cell_type": "code",
   "execution_count": 18,
   "metadata": {},
   "outputs": [
    {
     "data": {
      "text/html": [
       "<div>\n",
       "<style scoped>\n",
       "    .dataframe tbody tr th:only-of-type {\n",
       "        vertical-align: middle;\n",
       "    }\n",
       "\n",
       "    .dataframe tbody tr th {\n",
       "        vertical-align: top;\n",
       "    }\n",
       "\n",
       "    .dataframe thead th {\n",
       "        text-align: right;\n",
       "    }\n",
       "</style>\n",
       "<table border=\"1\" class=\"dataframe\">\n",
       "  <thead>\n",
       "    <tr style=\"text-align: right;\">\n",
       "      <th></th>\n",
       "      <th>cyclist_count</th>\n",
       "      <th>pedestrian_count</th>\n",
       "      <th>sign_count</th>\n",
       "      <th>vehicle_count</th>\n",
       "    </tr>\n",
       "    <tr>\n",
       "      <th>location</th>\n",
       "      <th></th>\n",
       "      <th></th>\n",
       "      <th></th>\n",
       "      <th></th>\n",
       "    </tr>\n",
       "  </thead>\n",
       "  <tbody>\n",
       "    <tr>\n",
       "      <th>location_other</th>\n",
       "      <td>10.0</td>\n",
       "      <td>40.0</td>\n",
       "      <td>62.0</td>\n",
       "      <td>156.0</td>\n",
       "    </tr>\n",
       "    <tr>\n",
       "      <th>location_phx</th>\n",
       "      <td>4.0</td>\n",
       "      <td>92.0</td>\n",
       "      <td>139.0</td>\n",
       "      <td>163.0</td>\n",
       "    </tr>\n",
       "    <tr>\n",
       "      <th>location_sf</th>\n",
       "      <td>11.0</td>\n",
       "      <td>192.0</td>\n",
       "      <td>64.0</td>\n",
       "      <td>154.0</td>\n",
       "    </tr>\n",
       "  </tbody>\n",
       "</table>\n",
       "</div>"
      ],
      "text/plain": [
       "                cyclist_count  pedestrian_count  sign_count  vehicle_count\n",
       "location                                                                  \n",
       "location_other           10.0              40.0        62.0          156.0\n",
       "location_phx              4.0              92.0       139.0          163.0\n",
       "location_sf              11.0             192.0        64.0          154.0"
      ]
     },
     "execution_count": 18,
     "metadata": {},
     "output_type": "execute_result"
    }
   ],
   "source": [
    "frames_df.groupby('location').max()[count_columns]"
   ]
  },
  {
   "cell_type": "code",
   "execution_count": 19,
   "metadata": {},
   "outputs": [
    {
     "data": {
      "text/html": [
       "<div>\n",
       "<style scoped>\n",
       "    .dataframe tbody tr th:only-of-type {\n",
       "        vertical-align: middle;\n",
       "    }\n",
       "\n",
       "    .dataframe tbody tr th {\n",
       "        vertical-align: top;\n",
       "    }\n",
       "\n",
       "    .dataframe thead th {\n",
       "        text-align: right;\n",
       "    }\n",
       "</style>\n",
       "<table border=\"1\" class=\"dataframe\">\n",
       "  <thead>\n",
       "    <tr style=\"text-align: right;\">\n",
       "      <th></th>\n",
       "      <th>cyclist_count</th>\n",
       "      <th>pedestrian_count</th>\n",
       "      <th>sign_count</th>\n",
       "      <th>vehicle_count</th>\n",
       "    </tr>\n",
       "    <tr>\n",
       "      <th>weather</th>\n",
       "      <th></th>\n",
       "      <th></th>\n",
       "      <th></th>\n",
       "      <th></th>\n",
       "    </tr>\n",
       "  </thead>\n",
       "  <tbody>\n",
       "    <tr>\n",
       "      <th>rain</th>\n",
       "      <td>0.0</td>\n",
       "      <td>2.0</td>\n",
       "      <td>27.0</td>\n",
       "      <td>106.0</td>\n",
       "    </tr>\n",
       "    <tr>\n",
       "      <th>sunny</th>\n",
       "      <td>11.0</td>\n",
       "      <td>192.0</td>\n",
       "      <td>139.0</td>\n",
       "      <td>163.0</td>\n",
       "    </tr>\n",
       "  </tbody>\n",
       "</table>\n",
       "</div>"
      ],
      "text/plain": [
       "         cyclist_count  pedestrian_count  sign_count  vehicle_count\n",
       "weather                                                            \n",
       "rain               0.0               2.0        27.0          106.0\n",
       "sunny             11.0             192.0       139.0          163.0"
      ]
     },
     "execution_count": 19,
     "metadata": {},
     "output_type": "execute_result"
    }
   ],
   "source": [
    "frames_df.groupby('weather').max()[count_columns]"
   ]
  },
  {
   "cell_type": "code",
   "execution_count": null,
   "metadata": {},
   "outputs": [],
   "source": []
  },
  {
   "cell_type": "code",
   "execution_count": 109,
   "metadata": {},
   "outputs": [
    {
     "data": {
      "image/png": "[encoded data removed]",
      "text/plain": [
       "<Figure size 360x360 with 1 Axes>"
      ]
     },
     "metadata": {
      "needs_background": "light"
     },
     "output_type": "display_data"
    }
   ],
   "source": [
    "phx_frames = frames_df[frames_df['location'] == 'location_phx']\n",
    "sf_frames = frames_df[frames_df['location'] == 'location_sf']\n",
    "\n",
    "veh_bins = 50\n",
    "\n",
    "phx_frames['vehicle_count'].hist(bins=veh_bins, figsize=(5, 5), grid=False, alpha=0.5)\n",
    "sf_frames['vehicle_count'].hist(bins=veh_bins, figsize=(5, 5), grid=False, alpha=0.5)\n",
    "plt.title('Vehicle Count by City')\n",
    "plt.legend(('PHX', 'SF'), loc='best')\n",
    "plt.tight_layout()"
   ]
  },
  {
   "cell_type": "code",
   "execution_count": 110,
   "metadata": {},
   "outputs": [
    {
     "data": {
      "image/png": "[encoded data removed]",
      "text/plain": [
       "<Figure size 360x360 with 1 Axes>"
      ]
     },
     "metadata": {
      "needs_background": "light"
     },
     "output_type": "display_data"
    }
   ],
   "source": [
    "phx_frames['all_object_count'].hist(bins=veh_bins, figsize=(5, 5), grid=False, alpha=0.5)\n",
    "sf_frames['all_object_count'].hist(bins=veh_bins, figsize=(5, 5), grid=False, alpha=0.5)\n",
    "plt.title('Object Count by City')\n",
    "plt.legend(('PHX', 'SF'), loc='best')\n",
    "plt.tight_layout()"
   ]
  },
  {
   "cell_type": "code",
   "execution_count": 116,
   "metadata": {},
   "outputs": [
    {
     "name": "stdout",
     "output_type": "stream",
     "text": [
      "5.798630865603902e-10\n"
     ]
    }
   ],
   "source": [
    "pvalue_count = es.utest(phx_frames, sf_frames, 'all_object_count')\n",
    "print(pvalue_count)"
   ]
  },
  {
   "cell_type": "code",
   "execution_count": 118,
   "metadata": {},
   "outputs": [
    {
     "name": "stdout",
     "output_type": "stream",
     "text": [
      "2.0755290333659922e-05\n"
     ]
    }
   ],
   "source": [
    "pvalue_count = es.utest(phx_frames, sf_frames, 'vehicle_count')\n",
    "print(pvalue_count)"
   ]
  },
  {
   "cell_type": "code",
   "execution_count": null,
   "metadata": {},
   "outputs": [],
   "source": []
  },
  {
   "cell_type": "code",
   "execution_count": null,
   "metadata": {},
   "outputs": [],
   "source": []
  },
  {
   "cell_type": "code",
   "execution_count": null,
   "metadata": {},
   "outputs": [],
   "source": []
  },
  {
   "cell_type": "code",
   "execution_count": null,
   "metadata": {},
   "outputs": [],
   "source": []
  }
 ],
 "metadata": {
  "kernelspec": {
   "display_name": "Python 3",
   "language": "python",
   "name": "python3"
  },
  "language_info": {
   "codemirror_mode": {
    "name": "ipython",
    "version": 3
   },
   "file_extension": ".py",
   "mimetype": "text/x-python",
   "name": "python",
   "nbconvert_exporter": "python",
   "pygments_lexer": "ipython3",
   "version": "3.7.3"
  }
 },
 "nbformat": 4,
 "nbformat_minor": 2
}
