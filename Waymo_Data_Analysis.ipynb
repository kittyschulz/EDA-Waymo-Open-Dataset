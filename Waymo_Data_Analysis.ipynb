{
  "nbformat": 4,
  "nbformat_minor": 0,
  "metadata": {
    "colab": {
      "name": "Waymo-Data-Analysis.ipynb",
      "version": "0.3.2",
      "provenance": [],
      "include_colab_link": true
    },
    "kernelspec": {
      "name": "python3",
      "display_name": "Python 3"
    }
  },
  "cells": [
    {
      "cell_type": "markdown",
      "metadata": {
        "id": "view-in-github",
        "colab_type": "text"
      },
      "source": [
        "<a href=\"https://colab.research.google.com/github/kittyschulz/EDA-Waymo-Open-Dataset/blob/master/Waymo_Data_Analysis.ipynb\" target=\"_parent\"><img src=\"https://colab.research.google.com/assets/colab-badge.svg\" alt=\"Open In Colab\"/></a>"
      ]
    },
    {
      "cell_type": "code",
      "metadata": {
        "id": "KrX1fioUG17N",
        "colab_type": "code",
        "outputId": "b5c3c273-b8b1-41fe-8676-e4c558e84731",
        "colab": {
          "base_uri": "https://localhost:8080/",
          "height": 442
        }
      },
      "source": [
        "!rm -rf waymo-od > /dev/null\n",
        "!git clone https://github.com/waymo-research/waymo-open-dataset.git waymo-od\n",
        "!cd waymo-od && git branch -a\n",
        "!cd waymo-od && git checkout remotes/origin/r1.0\n",
        "!pip3 install --upgrade pip"
      ],
      "execution_count": 1,
      "outputs": [
        {
          "output_type": "stream",
          "text": [
            "Cloning into 'waymo-od'...\n",
            "remote: Enumerating objects: 4, done.\u001b[K\n",
            "remote: Counting objects: 100% (4/4), done.\u001b[K\n",
            "remote: Compressing objects: 100% (4/4), done.\u001b[K\n",
            "remote: Total 367 (delta 0), reused 3 (delta 0), pack-reused 363\u001b[K\n",
            "Receiving objects: 100% (367/367), 14.00 MiB | 18.26 MiB/s, done.\n",
            "Resolving deltas: 100% (192/192), done.\n",
            "* \u001b[32mmaster\u001b[m\n",
            "  \u001b[31mremotes/origin/HEAD\u001b[m -> origin/master\n",
            "  \u001b[31mremotes/origin/master\u001b[m\n",
            "  \u001b[31mremotes/origin/r1.0\u001b[m\n",
            "  \u001b[31mremotes/origin/r1.0-tf1.15\u001b[m\n",
            "Note: checking out 'remotes/origin/r1.0'.\n",
            "\n",
            "You are in 'detached HEAD' state. You can look around, make experimental\n",
            "changes and commit them, and you can discard any commits you make in this\n",
            "state without impacting any branches by performing another checkout.\n",
            "\n",
            "If you want to create a new branch to retain commits you create, you may\n",
            "do so (now or later) by using -b with the checkout command again. Example:\n",
            "\n",
            "  git checkout -b <new-branch-name>\n",
            "\n",
            "HEAD is now at f4ae13f Merge branch 'master' of sso://user/chaiy/waymo-open-dataset into r1.0\n",
            "Requirement already up-to-date: pip in /usr/local/lib/python3.6/dist-packages (19.2.3)\n"
          ],
          "name": "stdout"
        }
      ]
    },
    {
      "cell_type": "code",
      "metadata": {
        "id": "NqnpfmKwG8tx",
        "colab_type": "code",
        "outputId": "8ac79983-6bda-4283-b2e9-ac1b2d89cd75",
        "colab": {
          "base_uri": "https://localhost:8080/",
          "height": 394
        }
      },
      "source": [
        "!pip3 install waymo-open-dataset\n",
        "import os\n",
        "import tensorflow as tf\n",
        "import math\n",
        "import numpy as np\n",
        "import pandas as pd\n",
        "import itertools\n",
        "import collections\n",
        "\n",
        "tf.enable_eager_execution()\n",
        "\n",
        "from waymo_open_dataset.utils import range_image_utils\n",
        "from waymo_open_dataset.utils import transform_utils\n",
        "from waymo_open_dataset.utils import  frame_utils\n",
        "from waymo_open_dataset import dataset_pb2 as open_dataset\n",
        "from waymo_open_dataset import label_pb2"
      ],
      "execution_count": 36,
      "outputs": [
        {
          "output_type": "stream",
          "text": [
            "Requirement already satisfied: waymo-open-dataset in /usr/local/lib/python3.6/dist-packages (1.0.1)\n",
            "Requirement already satisfied: tensorflow>=1.14.0 in /usr/local/lib/python3.6/dist-packages (from waymo-open-dataset) (1.14.0)\n",
            "Requirement already satisfied: google-pasta>=0.1.6 in /usr/local/lib/python3.6/dist-packages (from tensorflow>=1.14.0->waymo-open-dataset) (0.1.7)\n",
            "Requirement already satisfied: six>=1.10.0 in /usr/local/lib/python3.6/dist-packages (from tensorflow>=1.14.0->waymo-open-dataset) (1.12.0)\n",
            "Requirement already satisfied: protobuf>=3.6.1 in /usr/local/lib/python3.6/dist-packages (from tensorflow>=1.14.0->waymo-open-dataset) (3.7.1)\n",
            "Requirement already satisfied: grpcio>=1.8.6 in /usr/local/lib/python3.6/dist-packages (from tensorflow>=1.14.0->waymo-open-dataset) (1.15.0)\n",
            "Requirement already satisfied: absl-py>=0.7.0 in /usr/local/lib/python3.6/dist-packages (from tensorflow>=1.14.0->waymo-open-dataset) (0.8.0)\n",
            "Requirement already satisfied: numpy<2.0,>=1.14.5 in /usr/local/lib/python3.6/dist-packages (from tensorflow>=1.14.0->waymo-open-dataset) (1.16.5)\n",
            "Requirement already satisfied: wrapt>=1.11.1 in /usr/local/lib/python3.6/dist-packages (from tensorflow>=1.14.0->waymo-open-dataset) (1.11.2)\n",
            "Requirement already satisfied: astor>=0.6.0 in /usr/local/lib/python3.6/dist-packages (from tensorflow>=1.14.0->waymo-open-dataset) (0.8.0)\n",
            "Requirement already satisfied: termcolor>=1.1.0 in /usr/local/lib/python3.6/dist-packages (from tensorflow>=1.14.0->waymo-open-dataset) (1.1.0)\n",
            "Requirement already satisfied: tensorboard<1.15.0,>=1.14.0 in /usr/local/lib/python3.6/dist-packages (from tensorflow>=1.14.0->waymo-open-dataset) (1.14.0)\n",
            "Requirement already satisfied: wheel>=0.26 in /usr/local/lib/python3.6/dist-packages (from tensorflow>=1.14.0->waymo-open-dataset) (0.33.6)\n",
            "Requirement already satisfied: keras-applications>=1.0.6 in /usr/local/lib/python3.6/dist-packages (from tensorflow>=1.14.0->waymo-open-dataset) (1.0.8)\n",
            "Requirement already satisfied: gast>=0.2.0 in /usr/local/lib/python3.6/dist-packages (from tensorflow>=1.14.0->waymo-open-dataset) (0.2.2)\n",
            "Requirement already satisfied: keras-preprocessing>=1.0.5 in /usr/local/lib/python3.6/dist-packages (from tensorflow>=1.14.0->waymo-open-dataset) (1.1.0)\n",
            "Requirement already satisfied: tensorflow-estimator<1.15.0rc0,>=1.14.0rc0 in /usr/local/lib/python3.6/dist-packages (from tensorflow>=1.14.0->waymo-open-dataset) (1.14.0)\n",
            "Requirement already satisfied: setuptools in /usr/local/lib/python3.6/dist-packages (from protobuf>=3.6.1->tensorflow>=1.14.0->waymo-open-dataset) (41.2.0)\n",
            "Requirement already satisfied: werkzeug>=0.11.15 in /usr/local/lib/python3.6/dist-packages (from tensorboard<1.15.0,>=1.14.0->tensorflow>=1.14.0->waymo-open-dataset) (0.15.5)\n",
            "Requirement already satisfied: markdown>=2.6.8 in /usr/local/lib/python3.6/dist-packages (from tensorboard<1.15.0,>=1.14.0->tensorflow>=1.14.0->waymo-open-dataset) (3.1.1)\n",
            "Requirement already satisfied: h5py in /usr/local/lib/python3.6/dist-packages (from keras-applications>=1.0.6->tensorflow>=1.14.0->waymo-open-dataset) (2.8.0)\n"
          ],
          "name": "stdout"
        }
      ]
    },
    {
      "cell_type": "code",
      "metadata": {
        "id": "OuqQRwJJHOzg",
        "colab_type": "code",
        "outputId": "3ed5d8ef-7d0e-4384-a2bd-418cf61a6171",
        "colab": {
          "base_uri": "https://localhost:8080/",
          "height": 34
        }
      },
      "source": [
        "FILENAME = '/content/waymo-od/tutorial/frames'\n",
        "dataset = tf.data.TFRecordDataset(FILENAME, compression_type='')\n",
        "for data in dataset:\n",
        "    frame = open_dataset.Frame()\n",
        "    frame.ParseFromString(bytearray(data.numpy()))\n",
        "    break\n",
        "    \n",
        "type(frame)"
      ],
      "execution_count": 8,
      "outputs": [
        {
          "output_type": "execute_result",
          "data": {
            "text/plain": [
              "waymo_open_dataset.dataset_pb2.Frame"
            ]
          },
          "metadata": {
            "tags": []
          },
          "execution_count": 8
        }
      ]
    },
    {
      "cell_type": "code",
      "metadata": {
        "id": "eN14fi7bhQkm",
        "colab_type": "code",
        "colab": {}
      },
      "source": [
        "def object_type_name(x):\n",
        "  return label_pb2.Label.Type.Name(x)"
      ],
      "execution_count": 0,
      "outputs": []
    },
    {
      "cell_type": "code",
      "metadata": {
        "id": "q2G8f6Mkg6z_",
        "colab_type": "code",
        "colab": {
          "base_uri": "https://localhost:8080/",
          "height": 34
        },
        "outputId": "a46a907e-8b48-470b-8671-0a5a484d6b28"
      },
      "source": [
        "object_count = collections.Counter([object_type_name(x.type) for x in frame.laser_labels])\n",
        "print(object_count)"
      ],
      "execution_count": 38,
      "outputs": [
        {
          "output_type": "stream",
          "text": [
            "Counter({'TYPE_PEDESTRIAN': 21, 'TYPE_VEHICLE': 13, 'TYPE_SIGN': 12})\n"
          ],
          "name": "stdout"
        }
      ]
    },
    {
      "cell_type": "code",
      "metadata": {
        "id": "2tZHS2b69d3m",
        "colab_type": "code",
        "colab": {
          "base_uri": "https://localhost:8080/",
          "height": 119
        },
        "outputId": "2064647d-a215-495d-a975-ca1e7e2a6810"
      },
      "source": [
        "# Expolre the frame proto\n",
        "for x in frame.context.stats.laser_object_counts:\n",
        "  print(type(object_type_name(x.type)))\n",
        "  print(type(x.count))"
      ],
      "execution_count": 29,
      "outputs": [
        {
          "output_type": "stream",
          "text": [
            "<class 'str'>\n",
            "<class 'int'>\n",
            "<class 'str'>\n",
            "<class 'int'>\n",
            "<class 'str'>\n",
            "<class 'int'>\n"
          ],
          "name": "stdout"
        }
      ]
    },
    {
      "cell_type": "code",
      "metadata": {
        "id": "MEcoRMyQT2SX",
        "colab_type": "code",
        "colab": {}
      },
      "source": [
        "# stats = ['laser_object_counts_Vehicle', 'laser_object_counts_Pedestrian', 'laser_object_counts_Sign', 'camera_object_counts_Vehicle', 'camera_object_counts_Pedestrian', 'time_of_day', 'location', 'weather']\n",
        "stats = ['time_of_day', 'location', 'weather']\n"
      ],
      "execution_count": 0,
      "outputs": []
    },
    {
      "cell_type": "code",
      "metadata": {
        "id": "LSE41oZdDoXk",
        "colab_type": "code",
        "colab": {
          "base_uri": "https://localhost:8080/",
          "height": 179
        },
        "outputId": "5638401d-df19-44c1-9900-a028f63a81de"
      },
      "source": [
        "def extract_frame_data(frame):\n",
        "  frame_data = {                     \n",
        "       'time_of_day': frame.context.stats.time_of_day,\n",
        "       'location': frame.context.stats.location,\n",
        "       'weather': frame.context.stats.weather\n",
        "    }\n",
        "  object_counts = {object_type_name(x.type): x.count for x in frame.context.stats.laser_object_counts}\n",
        "  frame_data.update(object_counts)\n",
        "  \n",
        "  object_count = collections.Counter([object_type_name(x.type) for x in frame.laser_labels])\n",
        "  print(object_count)\n",
        "  \n",
        "  return frame_data\n",
        "\n",
        "\n",
        "frame_df = pd.DataFrame()\n",
        "FILENAME = '/content/waymo-od/tutorial/frames'\n",
        "dataset = tf.data.TFRecordDataset(FILENAME, compression_type='')\n",
        "for data in dataset:\n",
        "    frame = open_dataset.Frame()\n",
        "    print('Parsing frame')\n",
        "    frame.ParseFromString(bytearray(data.numpy()))\n",
        "    frame_data = extract_frame_data(frame)\n",
        "    frame_df = frame_df.append(frame_data, ignore_index=True)\n",
        "\n",
        "frame_df.head()"
      ],
      "execution_count": 39,
      "outputs": [
        {
          "output_type": "stream",
          "text": [
            "Parsing frame\n",
            "Counter({'TYPE_PEDESTRIAN': 21, 'TYPE_VEHICLE': 13, 'TYPE_SIGN': 10})\n",
            "Parsing frame\n",
            "Counter({'TYPE_PEDESTRIAN': 21, 'TYPE_VEHICLE': 13, 'TYPE_SIGN': 12})\n"
          ],
          "name": "stdout"
        },
        {
          "output_type": "execute_result",
          "data": {
            "text/html": [
              "<div>\n",
              "<style scoped>\n",
              "    .dataframe tbody tr th:only-of-type {\n",
              "        vertical-align: middle;\n",
              "    }\n",
              "\n",
              "    .dataframe tbody tr th {\n",
              "        vertical-align: top;\n",
              "    }\n",
              "\n",
              "    .dataframe thead th {\n",
              "        text-align: right;\n",
              "    }\n",
              "</style>\n",
              "<table border=\"1\" class=\"dataframe\">\n",
              "  <thead>\n",
              "    <tr style=\"text-align: right;\">\n",
              "      <th></th>\n",
              "      <th>TYPE_PEDESTRIAN</th>\n",
              "      <th>TYPE_SIGN</th>\n",
              "      <th>TYPE_VEHICLE</th>\n",
              "      <th>location</th>\n",
              "      <th>time_of_day</th>\n",
              "      <th>weather</th>\n",
              "    </tr>\n",
              "  </thead>\n",
              "  <tbody>\n",
              "    <tr>\n",
              "      <th>0</th>\n",
              "      <td>21.0</td>\n",
              "      <td>10.0</td>\n",
              "      <td>13.0</td>\n",
              "      <td>location_sf</td>\n",
              "      <td>Day</td>\n",
              "      <td>sunny</td>\n",
              "    </tr>\n",
              "    <tr>\n",
              "      <th>1</th>\n",
              "      <td>21.0</td>\n",
              "      <td>12.0</td>\n",
              "      <td>13.0</td>\n",
              "      <td>location_sf</td>\n",
              "      <td>Day</td>\n",
              "      <td>sunny</td>\n",
              "    </tr>\n",
              "  </tbody>\n",
              "</table>\n",
              "</div>"
            ],
            "text/plain": [
              "   TYPE_PEDESTRIAN  TYPE_SIGN  TYPE_VEHICLE     location time_of_day weather\n",
              "0             21.0       10.0          13.0  location_sf         Day   sunny\n",
              "1             21.0       12.0          13.0  location_sf         Day   sunny"
            ]
          },
          "metadata": {
            "tags": []
          },
          "execution_count": 39
        }
      ]
    }
  ]
}